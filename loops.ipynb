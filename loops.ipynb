{
  "nbformat": 4,
  "nbformat_minor": 0,
  "metadata": {
    "colab": {
      "name": "loops",
      "provenance": [],
      "authorship_tag": "ABX9TyO9sY/YBVu0/+oLqHXLIf0o",
      "include_colab_link": true
    },
    "kernelspec": {
      "name": "python3",
      "display_name": "Python 3"
    },
    "language_info": {
      "name": "python"
    }
  },
  "cells": [
    {
      "cell_type": "markdown",
      "metadata": {
        "id": "view-in-github",
        "colab_type": "text"
      },
      "source": [
        "<a href=\"https://colab.research.google.com/github/masteralex2015/loops/blob/main/loops.ipynb\" target=\"_parent\"><img src=\"https://colab.research.google.com/assets/colab-badge.svg\" alt=\"Open In Colab\"/></a>"
      ]
    },
    {
      "cell_type": "code",
      "metadata": {
        "colab": {
          "base_uri": "https://localhost:8080/"
        },
        "id": "5uT3O1KMl52L",
        "outputId": "aebf6111-14ee-4c06-a8d4-c448512802c3"
      },
      "source": [
        "n = int(input())\n",
        "print(\"==========\")\n",
        "for i in range(n):\n",
        "  print(i)\n",
        "  print(i*i)"
      ],
      "execution_count": null,
      "outputs": [
        {
          "output_type": "stream",
          "text": [
            "5\n",
            "==========\n",
            "0\n",
            "0\n",
            "1\n",
            "1\n",
            "2\n",
            "4\n",
            "3\n",
            "9\n",
            "4\n",
            "16\n"
          ],
          "name": "stdout"
        }
      ]
    },
    {
      "cell_type": "code",
      "metadata": {
        "id": "X0g2sF8_liEq",
        "colab": {
          "base_uri": "https://localhost:8080/"
        },
        "outputId": "0d280bb1-7f35-4756-e2c6-a082b67ccadb"
      },
      "source": [
        "i = 0\n",
        "while i < 5:\n",
        "    print (i)\n",
        "    i += 1"
      ],
      "execution_count": null,
      "outputs": [
        {
          "output_type": "stream",
          "text": [
            "0\n",
            "1\n",
            "2\n",
            "3\n",
            "4\n"
          ],
          "name": "stdout"
        }
      ]
    }
  ]
}